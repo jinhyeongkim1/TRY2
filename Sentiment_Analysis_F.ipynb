{
 "cells": [
  {
   "cell_type": "code",
   "execution_count": 3,
   "metadata": {},
   "outputs": [],
   "source": [
    "from nltk.sentiment.vader import SentimentIntensityAnalyzer\n",
    "import pandas as pd\n",
    "\n",
    "\n",
    "df = pd.read_csv('data/댓글_매진공지0426.csv')\n"
   ]
  },
  {
   "cell_type": "code",
   "execution_count": 4,
   "metadata": {},
   "outputs": [
    {
     "data": {
      "text/html": [
       "<div>\n",
       "<style scoped>\n",
       "    .dataframe tbody tr th:only-of-type {\n",
       "        vertical-align: middle;\n",
       "    }\n",
       "\n",
       "    .dataframe tbody tr th {\n",
       "        vertical-align: top;\n",
       "    }\n",
       "\n",
       "    .dataframe thead th {\n",
       "        text-align: right;\n",
       "    }\n",
       "</style>\n",
       "<table border=\"1\" class=\"dataframe\">\n",
       "  <thead>\n",
       "    <tr style=\"text-align: right;\">\n",
       "      <th></th>\n",
       "      <th>Unnamed: 0.1</th>\n",
       "      <th>Unnamed: 0</th>\n",
       "      <th>날짜</th>\n",
       "      <th>댓글</th>\n",
       "    </tr>\n",
       "  </thead>\n",
       "  <tbody>\n",
       "    <tr>\n",
       "      <th>0</th>\n",
       "      <td>5620</td>\n",
       "      <td>5620</td>\n",
       "      <td>4월 26일</td>\n",
       "      <td>뭐가 달라지셨나요... 저 디퍼런트 어스 좀 지워주세요 진짜ㅜ개쪽팔려요..</td>\n",
       "    </tr>\n",
       "    <tr>\n",
       "      <th>1</th>\n",
       "      <td>5621</td>\n",
       "      <td>5621</td>\n",
       "      <td>4월 26일</td>\n",
       "      <td>매진 뜻이 매일 진다는건가요? 13경기연속 매일 진다는 건가</td>\n",
       "    </tr>\n",
       "    <tr>\n",
       "      <th>2</th>\n",
       "      <td>5622</td>\n",
       "      <td>5622</td>\n",
       "      <td>4월 26일</td>\n",
       "      <td>매진이면 야구좀 제대로 하는거 팬들한테 보여줍시다 이젠.. 매진경기인데 항상 지는거...</td>\n",
       "    </tr>\n",
       "    <tr>\n",
       "      <th>3</th>\n",
       "      <td>5623</td>\n",
       "      <td>5623</td>\n",
       "      <td>4월 26일</td>\n",
       "      <td>이 정도면 매진도 자랑할 일 아니지 않나 ㅋㅋㅋ</td>\n",
       "    </tr>\n",
       "    <tr>\n",
       "      <th>4</th>\n",
       "      <td>5624</td>\n",
       "      <td>5624</td>\n",
       "      <td>4월 26일</td>\n",
       "      <td>이렇게 경기 할거면 매진이 무슨 의미야</td>\n",
       "    </tr>\n",
       "    <tr>\n",
       "      <th>...</th>\n",
       "      <td>...</td>\n",
       "      <td>...</td>\n",
       "      <td>...</td>\n",
       "      <td>...</td>\n",
       "    </tr>\n",
       "    <tr>\n",
       "      <th>778</th>\n",
       "      <td>6398</td>\n",
       "      <td>6398</td>\n",
       "      <td>4월 26일</td>\n",
       "      <td>잘해봐 십팔</td>\n",
       "    </tr>\n",
       "    <tr>\n",
       "      <th>779</th>\n",
       "      <td>6399</td>\n",
       "      <td>6399</td>\n",
       "      <td>4월 26일</td>\n",
       "      <td>잘좀해라 제발</td>\n",
       "    </tr>\n",
       "    <tr>\n",
       "      <th>780</th>\n",
       "      <td>6400</td>\n",
       "      <td>6400</td>\n",
       "      <td>4월 26일</td>\n",
       "      <td>해체해 그냥</td>\n",
       "    </tr>\n",
       "    <tr>\n",
       "      <th>781</th>\n",
       "      <td>6401</td>\n",
       "      <td>6401</td>\n",
       "      <td>4월 26일</td>\n",
       "      <td>@on.and._on 재수업따</td>\n",
       "    </tr>\n",
       "    <tr>\n",
       "      <th>782</th>\n",
       "      <td>6402</td>\n",
       "      <td>6402</td>\n",
       "      <td>4월 26일</td>\n",
       "      <td>대단하시네 보이콧해도 모자랄판인데</td>\n",
       "    </tr>\n",
       "  </tbody>\n",
       "</table>\n",
       "<p>783 rows × 4 columns</p>\n",
       "</div>"
      ],
      "text/plain": [
       "     Unnamed: 0.1  Unnamed: 0      날짜  \\\n",
       "0            5620        5620  4월 26일   \n",
       "1            5621        5621  4월 26일   \n",
       "2            5622        5622  4월 26일   \n",
       "3            5623        5623  4월 26일   \n",
       "4            5624        5624  4월 26일   \n",
       "..            ...         ...     ...   \n",
       "778          6398        6398  4월 26일   \n",
       "779          6399        6399  4월 26일   \n",
       "780          6400        6400  4월 26일   \n",
       "781          6401        6401  4월 26일   \n",
       "782          6402        6402  4월 26일   \n",
       "\n",
       "                                                    댓글  \n",
       "0            뭐가 달라지셨나요... 저 디퍼런트 어스 좀 지워주세요 진짜ㅜ개쪽팔려요..  \n",
       "1                    매진 뜻이 매일 진다는건가요? 13경기연속 매일 진다는 건가  \n",
       "2    매진이면 야구좀 제대로 하는거 팬들한테 보여줍시다 이젠.. 매진경기인데 항상 지는거...  \n",
       "3                           이 정도면 매진도 자랑할 일 아니지 않나 ㅋㅋㅋ  \n",
       "4                                이렇게 경기 할거면 매진이 무슨 의미야  \n",
       "..                                                 ...  \n",
       "778                                             잘해봐 십팔  \n",
       "779                                            잘좀해라 제발  \n",
       "780                                             해체해 그냥  \n",
       "781                                   @on.and._on 재수업따  \n",
       "782                                 대단하시네 보이콧해도 모자랄판인데  \n",
       "\n",
       "[783 rows x 4 columns]"
      ]
     },
     "execution_count": 4,
     "metadata": {},
     "output_type": "execute_result"
    }
   ],
   "source": [
    "df"
   ]
  },
  {
   "cell_type": "code",
   "execution_count": 7,
   "metadata": {},
   "outputs": [
    {
     "name": "stderr",
     "output_type": "stream",
     "text": [
      "[nltk_data] Downloading package vader_lexicon to\n",
      "[nltk_data]     C:\\Users\\82102\\AppData\\Roaming\\nltk_data...\n"
     ]
    },
    {
     "data": {
      "text/plain": [
       "True"
      ]
     },
     "execution_count": 7,
     "metadata": {},
     "output_type": "execute_result"
    }
   ],
   "source": [
    "import nltk\n",
    "\n",
    "# 필요한 리소스 다운로드\n",
    "nltk.download('vader_lexicon')"
   ]
  },
  {
   "cell_type": "code",
   "execution_count": 8,
   "metadata": {},
   "outputs": [],
   "source": [
    "# VADER Sentiment Analyzer 초기화\n",
    "sia = SentimentIntensityAnalyzer()"
   ]
  },
  {
   "cell_type": "code",
   "execution_count": 16,
   "metadata": {},
   "outputs": [],
   "source": [
    "# 감성 점수 계산\n",
    "df['sentiment_score'] = df['댓글'].apply(lambda x: sia.polarity_scores(x)['compound'])\n",
    "\n",
    "# 부정/긍정 분류\n",
    "df['sentiment'] = df['sentiment_score'].apply(lambda score: '긍정' if score >= 0.02 else ('부정' if score <= -0.01 else '중립'))"
   ]
  },
  {
   "cell_type": "code",
   "execution_count": 10,
   "metadata": {},
   "outputs": [
    {
     "data": {
      "text/html": [
       "<div>\n",
       "<style scoped>\n",
       "    .dataframe tbody tr th:only-of-type {\n",
       "        vertical-align: middle;\n",
       "    }\n",
       "\n",
       "    .dataframe tbody tr th {\n",
       "        vertical-align: top;\n",
       "    }\n",
       "\n",
       "    .dataframe thead th {\n",
       "        text-align: right;\n",
       "    }\n",
       "</style>\n",
       "<table border=\"1\" class=\"dataframe\">\n",
       "  <thead>\n",
       "    <tr style=\"text-align: right;\">\n",
       "      <th></th>\n",
       "      <th>Unnamed: 0.1</th>\n",
       "      <th>Unnamed: 0</th>\n",
       "      <th>날짜</th>\n",
       "      <th>댓글</th>\n",
       "      <th>sentiment_score</th>\n",
       "      <th>sentiment</th>\n",
       "    </tr>\n",
       "  </thead>\n",
       "  <tbody>\n",
       "    <tr>\n",
       "      <th>0</th>\n",
       "      <td>5620</td>\n",
       "      <td>5620</td>\n",
       "      <td>4월 26일</td>\n",
       "      <td>뭐가 달라지셨나요... 저 디퍼런트 어스 좀 지워주세요 진짜ㅜ개쪽팔려요..</td>\n",
       "      <td>0.0</td>\n",
       "      <td>중립</td>\n",
       "    </tr>\n",
       "    <tr>\n",
       "      <th>1</th>\n",
       "      <td>5621</td>\n",
       "      <td>5621</td>\n",
       "      <td>4월 26일</td>\n",
       "      <td>매진 뜻이 매일 진다는건가요? 13경기연속 매일 진다는 건가</td>\n",
       "      <td>0.0</td>\n",
       "      <td>중립</td>\n",
       "    </tr>\n",
       "    <tr>\n",
       "      <th>2</th>\n",
       "      <td>5622</td>\n",
       "      <td>5622</td>\n",
       "      <td>4월 26일</td>\n",
       "      <td>매진이면 야구좀 제대로 하는거 팬들한테 보여줍시다 이젠.. 매진경기인데 항상 지는거...</td>\n",
       "      <td>0.0</td>\n",
       "      <td>중립</td>\n",
       "    </tr>\n",
       "    <tr>\n",
       "      <th>3</th>\n",
       "      <td>5623</td>\n",
       "      <td>5623</td>\n",
       "      <td>4월 26일</td>\n",
       "      <td>이 정도면 매진도 자랑할 일 아니지 않나 ㅋㅋㅋ</td>\n",
       "      <td>0.0</td>\n",
       "      <td>중립</td>\n",
       "    </tr>\n",
       "    <tr>\n",
       "      <th>4</th>\n",
       "      <td>5624</td>\n",
       "      <td>5624</td>\n",
       "      <td>4월 26일</td>\n",
       "      <td>이렇게 경기 할거면 매진이 무슨 의미야</td>\n",
       "      <td>0.0</td>\n",
       "      <td>중립</td>\n",
       "    </tr>\n",
       "    <tr>\n",
       "      <th>...</th>\n",
       "      <td>...</td>\n",
       "      <td>...</td>\n",
       "      <td>...</td>\n",
       "      <td>...</td>\n",
       "      <td>...</td>\n",
       "      <td>...</td>\n",
       "    </tr>\n",
       "    <tr>\n",
       "      <th>778</th>\n",
       "      <td>6398</td>\n",
       "      <td>6398</td>\n",
       "      <td>4월 26일</td>\n",
       "      <td>잘해봐 십팔</td>\n",
       "      <td>0.0</td>\n",
       "      <td>중립</td>\n",
       "    </tr>\n",
       "    <tr>\n",
       "      <th>779</th>\n",
       "      <td>6399</td>\n",
       "      <td>6399</td>\n",
       "      <td>4월 26일</td>\n",
       "      <td>잘좀해라 제발</td>\n",
       "      <td>0.0</td>\n",
       "      <td>중립</td>\n",
       "    </tr>\n",
       "    <tr>\n",
       "      <th>780</th>\n",
       "      <td>6400</td>\n",
       "      <td>6400</td>\n",
       "      <td>4월 26일</td>\n",
       "      <td>해체해 그냥</td>\n",
       "      <td>0.0</td>\n",
       "      <td>중립</td>\n",
       "    </tr>\n",
       "    <tr>\n",
       "      <th>781</th>\n",
       "      <td>6401</td>\n",
       "      <td>6401</td>\n",
       "      <td>4월 26일</td>\n",
       "      <td>@on.and._on 재수업따</td>\n",
       "      <td>0.0</td>\n",
       "      <td>중립</td>\n",
       "    </tr>\n",
       "    <tr>\n",
       "      <th>782</th>\n",
       "      <td>6402</td>\n",
       "      <td>6402</td>\n",
       "      <td>4월 26일</td>\n",
       "      <td>대단하시네 보이콧해도 모자랄판인데</td>\n",
       "      <td>0.0</td>\n",
       "      <td>중립</td>\n",
       "    </tr>\n",
       "  </tbody>\n",
       "</table>\n",
       "<p>783 rows × 6 columns</p>\n",
       "</div>"
      ],
      "text/plain": [
       "     Unnamed: 0.1  Unnamed: 0      날짜  \\\n",
       "0            5620        5620  4월 26일   \n",
       "1            5621        5621  4월 26일   \n",
       "2            5622        5622  4월 26일   \n",
       "3            5623        5623  4월 26일   \n",
       "4            5624        5624  4월 26일   \n",
       "..            ...         ...     ...   \n",
       "778          6398        6398  4월 26일   \n",
       "779          6399        6399  4월 26일   \n",
       "780          6400        6400  4월 26일   \n",
       "781          6401        6401  4월 26일   \n",
       "782          6402        6402  4월 26일   \n",
       "\n",
       "                                                    댓글  sentiment_score  \\\n",
       "0            뭐가 달라지셨나요... 저 디퍼런트 어스 좀 지워주세요 진짜ㅜ개쪽팔려요..              0.0   \n",
       "1                    매진 뜻이 매일 진다는건가요? 13경기연속 매일 진다는 건가              0.0   \n",
       "2    매진이면 야구좀 제대로 하는거 팬들한테 보여줍시다 이젠.. 매진경기인데 항상 지는거...              0.0   \n",
       "3                           이 정도면 매진도 자랑할 일 아니지 않나 ㅋㅋㅋ              0.0   \n",
       "4                                이렇게 경기 할거면 매진이 무슨 의미야              0.0   \n",
       "..                                                 ...              ...   \n",
       "778                                             잘해봐 십팔              0.0   \n",
       "779                                            잘좀해라 제발              0.0   \n",
       "780                                             해체해 그냥              0.0   \n",
       "781                                   @on.and._on 재수업따              0.0   \n",
       "782                                 대단하시네 보이콧해도 모자랄판인데              0.0   \n",
       "\n",
       "    sentiment  \n",
       "0          중립  \n",
       "1          중립  \n",
       "2          중립  \n",
       "3          중립  \n",
       "4          중립  \n",
       "..        ...  \n",
       "778        중립  \n",
       "779        중립  \n",
       "780        중립  \n",
       "781        중립  \n",
       "782        중립  \n",
       "\n",
       "[783 rows x 6 columns]"
      ]
     },
     "execution_count": 10,
     "metadata": {},
     "output_type": "execute_result"
    }
   ],
   "source": [
    "df"
   ]
  },
  {
   "cell_type": "code",
   "execution_count": 17,
   "metadata": {},
   "outputs": [
    {
     "data": {
      "text/plain": [
       "sentiment\n",
       "중립    783\n",
       "Name: count, dtype: int64"
      ]
     },
     "execution_count": 17,
     "metadata": {},
     "output_type": "execute_result"
    }
   ],
   "source": [
    "df['sentiment'].value_counts()"
   ]
  },
  {
   "cell_type": "code",
   "execution_count": 13,
   "metadata": {},
   "outputs": [],
   "source": [
    "from textblob import TextBlob"
   ]
  },
  {
   "cell_type": "code",
   "execution_count": 14,
   "metadata": {},
   "outputs": [],
   "source": [
    "# TextBlob을 사용한 감성 분석\n",
    "df['sentiment_textblob'] = df['댓글'].apply(lambda x: '긍정' if TextBlob(x).sentiment.polarity > 0 else ('부정' if TextBlob(x).sentiment.polarity < 0 else '중립'))\n"
   ]
  },
  {
   "cell_type": "code",
   "execution_count": 15,
   "metadata": {},
   "outputs": [
    {
     "data": {
      "text/plain": [
       "sentiment_textblob\n",
       "중립    783\n",
       "Name: count, dtype: int64"
      ]
     },
     "execution_count": 15,
     "metadata": {},
     "output_type": "execute_result"
    }
   ],
   "source": [
    "df['sentiment_textblob'].value_counts()"
   ]
  },
  {
   "cell_type": "code",
   "execution_count": null,
   "metadata": {},
   "outputs": [],
   "source": []
  }
 ],
 "metadata": {
  "kernelspec": {
   "display_name": "nof",
   "language": "python",
   "name": "python3"
  },
  "language_info": {
   "codemirror_mode": {
    "name": "ipython",
    "version": 3
   },
   "file_extension": ".py",
   "mimetype": "text/x-python",
   "name": "python",
   "nbconvert_exporter": "python",
   "pygments_lexer": "ipython3",
   "version": "3.12.7"
  }
 },
 "nbformat": 4,
 "nbformat_minor": 2
}
