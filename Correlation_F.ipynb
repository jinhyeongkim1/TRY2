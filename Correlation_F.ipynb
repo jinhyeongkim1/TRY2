{
 "cells": [
  {
   "cell_type": "code",
   "execution_count": 32,
   "metadata": {},
   "outputs": [],
   "source": [
    "import pandas as pd\n",
    "\n",
    "df = pd.read_csv('data/kbo_한화_관중수.csv')"
   ]
  },
  {
   "cell_type": "code",
   "execution_count": 33,
   "metadata": {},
   "outputs": [
    {
     "data": {
      "text/html": [
       "<div>\n",
       "<style scoped>\n",
       "    .dataframe tbody tr th:only-of-type {\n",
       "        vertical-align: middle;\n",
       "    }\n",
       "\n",
       "    .dataframe tbody tr th {\n",
       "        vertical-align: top;\n",
       "    }\n",
       "\n",
       "    .dataframe thead th {\n",
       "        text-align: right;\n",
       "    }\n",
       "</style>\n",
       "<table border=\"1\" class=\"dataframe\">\n",
       "  <thead>\n",
       "    <tr style=\"text-align: right;\">\n",
       "      <th></th>\n",
       "      <th>경기수</th>\n",
       "      <th>날짜</th>\n",
       "      <th>요일</th>\n",
       "      <th>홈</th>\n",
       "      <th>방문</th>\n",
       "      <th>구장</th>\n",
       "      <th>관중수</th>\n",
       "      <th>승패</th>\n",
       "    </tr>\n",
       "  </thead>\n",
       "  <tbody>\n",
       "    <tr>\n",
       "      <th>0</th>\n",
       "      <td>1</td>\n",
       "      <td>03월 29일</td>\n",
       "      <td>금</td>\n",
       "      <td>한화</td>\n",
       "      <td>KT</td>\n",
       "      <td>대전</td>\n",
       "      <td>12,000</td>\n",
       "      <td>1</td>\n",
       "    </tr>\n",
       "    <tr>\n",
       "      <th>1</th>\n",
       "      <td>2</td>\n",
       "      <td>03월 30일</td>\n",
       "      <td>토</td>\n",
       "      <td>한화</td>\n",
       "      <td>KT</td>\n",
       "      <td>대전</td>\n",
       "      <td>12,000</td>\n",
       "      <td>1</td>\n",
       "    </tr>\n",
       "    <tr>\n",
       "      <th>2</th>\n",
       "      <td>3</td>\n",
       "      <td>03월 31일</td>\n",
       "      <td>일</td>\n",
       "      <td>한화</td>\n",
       "      <td>KT</td>\n",
       "      <td>대전</td>\n",
       "      <td>12,000</td>\n",
       "      <td>1</td>\n",
       "    </tr>\n",
       "    <tr>\n",
       "      <th>3</th>\n",
       "      <td>4</td>\n",
       "      <td>04월 02일</td>\n",
       "      <td>화</td>\n",
       "      <td>한화</td>\n",
       "      <td>롯데</td>\n",
       "      <td>대전</td>\n",
       "      <td>12,000</td>\n",
       "      <td>0</td>\n",
       "    </tr>\n",
       "    <tr>\n",
       "      <th>4</th>\n",
       "      <td>5</td>\n",
       "      <td>04월 04일</td>\n",
       "      <td>목</td>\n",
       "      <td>한화</td>\n",
       "      <td>롯데</td>\n",
       "      <td>대전</td>\n",
       "      <td>12,000</td>\n",
       "      <td>1</td>\n",
       "    </tr>\n",
       "    <tr>\n",
       "      <th>...</th>\n",
       "      <td>...</td>\n",
       "      <td>...</td>\n",
       "      <td>...</td>\n",
       "      <td>...</td>\n",
       "      <td>...</td>\n",
       "      <td>...</td>\n",
       "      <td>...</td>\n",
       "      <td>...</td>\n",
       "    </tr>\n",
       "    <tr>\n",
       "      <th>64</th>\n",
       "      <td>67</td>\n",
       "      <td>09월 22일</td>\n",
       "      <td>일</td>\n",
       "      <td>한화</td>\n",
       "      <td>롯데</td>\n",
       "      <td>대전</td>\n",
       "      <td>12,000</td>\n",
       "      <td>1</td>\n",
       "    </tr>\n",
       "    <tr>\n",
       "      <th>65</th>\n",
       "      <td>68</td>\n",
       "      <td>09월 23일</td>\n",
       "      <td>월</td>\n",
       "      <td>한화</td>\n",
       "      <td>롯데</td>\n",
       "      <td>대전</td>\n",
       "      <td>10,407</td>\n",
       "      <td>0</td>\n",
       "    </tr>\n",
       "    <tr>\n",
       "      <th>66</th>\n",
       "      <td>69</td>\n",
       "      <td>09월 27일</td>\n",
       "      <td>금</td>\n",
       "      <td>한화</td>\n",
       "      <td>KIA</td>\n",
       "      <td>대전</td>\n",
       "      <td>12,000</td>\n",
       "      <td>1</td>\n",
       "    </tr>\n",
       "    <tr>\n",
       "      <th>67</th>\n",
       "      <td>70</td>\n",
       "      <td>09월 28일</td>\n",
       "      <td>토</td>\n",
       "      <td>한화</td>\n",
       "      <td>SSG</td>\n",
       "      <td>대전</td>\n",
       "      <td>12,000</td>\n",
       "      <td>0</td>\n",
       "    </tr>\n",
       "    <tr>\n",
       "      <th>68</th>\n",
       "      <td>71</td>\n",
       "      <td>09월 29일</td>\n",
       "      <td>일</td>\n",
       "      <td>한화</td>\n",
       "      <td>NC</td>\n",
       "      <td>대전</td>\n",
       "      <td>12,000</td>\n",
       "      <td>0</td>\n",
       "    </tr>\n",
       "  </tbody>\n",
       "</table>\n",
       "<p>69 rows × 8 columns</p>\n",
       "</div>"
      ],
      "text/plain": [
       "    경기수       날짜 요일   홈   방문  구장     관중수  승패\n",
       "0     1  03월 29일  금  한화   KT  대전  12,000   1\n",
       "1     2  03월 30일  토  한화   KT  대전  12,000   1\n",
       "2     3  03월 31일  일  한화   KT  대전  12,000   1\n",
       "3     4  04월 02일  화  한화   롯데  대전  12,000   0\n",
       "4     5  04월 04일  목  한화   롯데  대전  12,000   1\n",
       "..  ...      ... ..  ..  ...  ..     ...  ..\n",
       "64   67  09월 22일  일  한화   롯데  대전  12,000   1\n",
       "65   68  09월 23일  월  한화   롯데  대전  10,407   0\n",
       "66   69  09월 27일  금  한화  KIA  대전  12,000   1\n",
       "67   70  09월 28일  토  한화  SSG  대전  12,000   0\n",
       "68   71  09월 29일  일  한화   NC  대전  12,000   0\n",
       "\n",
       "[69 rows x 8 columns]"
      ]
     },
     "execution_count": 33,
     "metadata": {},
     "output_type": "execute_result"
    }
   ],
   "source": [
    "df"
   ]
  },
  {
   "cell_type": "code",
   "execution_count": 34,
   "metadata": {},
   "outputs": [],
   "source": [
    "df = df[['날짜','관중수','승패']]"
   ]
  },
  {
   "cell_type": "code",
   "execution_count": 35,
   "metadata": {},
   "outputs": [
    {
     "name": "stderr",
     "output_type": "stream",
     "text": [
      "C:\\Users\\82102\\AppData\\Local\\Temp\\ipykernel_27140\\3363018191.py:2: SettingWithCopyWarning: \n",
      "A value is trying to be set on a copy of a slice from a DataFrame.\n",
      "Try using .loc[row_indexer,col_indexer] = value instead\n",
      "\n",
      "See the caveats in the documentation: https://pandas.pydata.org/pandas-docs/stable/user_guide/indexing.html#returning-a-view-versus-a-copy\n",
      "  df['관중수'] = df['관중수'].replace({',': ''}, regex=True).astype(float)\n"
     ]
    }
   ],
   "source": [
    "# '관중수' 컬럼의 쉼표 제거하고, 숫자형으로 변환\n",
    "df['관중수'] = df['관중수'].replace({',': ''}, regex=True).astype(float)"
   ]
  },
  {
   "cell_type": "code",
   "execution_count": 36,
   "metadata": {},
   "outputs": [
    {
     "name": "stderr",
     "output_type": "stream",
     "text": [
      "C:\\Users\\82102\\AppData\\Local\\Temp\\ipykernel_27140\\3672805262.py:2: SettingWithCopyWarning: \n",
      "A value is trying to be set on a copy of a slice from a DataFrame.\n",
      "Try using .loc[row_indexer,col_indexer] = value instead\n",
      "\n",
      "See the caveats in the documentation: https://pandas.pydata.org/pandas-docs/stable/user_guide/indexing.html#returning-a-view-versus-a-copy\n",
      "  df['날짜'] = df['날짜'].str.replace(r'(\\d{2})월 (\\d{2})일', r'2024-\\1-\\2', regex=True)\n",
      "C:\\Users\\82102\\AppData\\Local\\Temp\\ipykernel_27140\\3672805262.py:5: SettingWithCopyWarning: \n",
      "A value is trying to be set on a copy of a slice from a DataFrame.\n",
      "Try using .loc[row_indexer,col_indexer] = value instead\n",
      "\n",
      "See the caveats in the documentation: https://pandas.pydata.org/pandas-docs/stable/user_guide/indexing.html#returning-a-view-versus-a-copy\n",
      "  df['날짜'] = pd.to_datetime(df['날짜'], format='%Y-%m-%d')\n"
     ]
    }
   ],
   "source": [
    "# 1. '날짜' 형식을 '2024-03-29'로 변환 (2024년을 넣어줍니다)\n",
    "df['날짜'] = df['날짜'].str.replace(r'(\\d{2})월 (\\d{2})일', r'2024-\\1-\\2', regex=True)\n",
    "\n",
    "# 2. 날짜를 datetime 형식으로 변환\n",
    "df['날짜'] = pd.to_datetime(df['날짜'], format='%Y-%m-%d')"
   ]
  },
  {
   "cell_type": "code",
   "execution_count": 23,
   "metadata": {},
   "outputs": [
    {
     "name": "stderr",
     "output_type": "stream",
     "text": [
      "C:\\Users\\82102\\AppData\\Local\\Temp\\ipykernel_27140\\1370510748.py:1: SettingWithCopyWarning: \n",
      "A value is trying to be set on a copy of a slice from a DataFrame.\n",
      "Try using .loc[row_indexer,col_indexer] = value instead\n",
      "\n",
      "See the caveats in the documentation: https://pandas.pydata.org/pandas-docs/stable/user_guide/indexing.html#returning-a-view-versus-a-copy\n",
      "  df['날짜'] = df['날짜'].str.replace(r'(\\d{2})월 (\\d{2})일', r'2024-\\1-\\2')\n"
     ]
    }
   ],
   "source": [
    "df['날짜'] = df['날짜'].str.replace(r'(\\d{2})월 (\\d{2})일', r'2024-\\1-\\2')"
   ]
  },
  {
   "cell_type": "code",
   "execution_count": 37,
   "metadata": {},
   "outputs": [
    {
     "data": {
      "text/html": [
       "<div>\n",
       "<style scoped>\n",
       "    .dataframe tbody tr th:only-of-type {\n",
       "        vertical-align: middle;\n",
       "    }\n",
       "\n",
       "    .dataframe tbody tr th {\n",
       "        vertical-align: top;\n",
       "    }\n",
       "\n",
       "    .dataframe thead th {\n",
       "        text-align: right;\n",
       "    }\n",
       "</style>\n",
       "<table border=\"1\" class=\"dataframe\">\n",
       "  <thead>\n",
       "    <tr style=\"text-align: right;\">\n",
       "      <th></th>\n",
       "      <th>날짜</th>\n",
       "      <th>관중수</th>\n",
       "      <th>승패</th>\n",
       "    </tr>\n",
       "  </thead>\n",
       "  <tbody>\n",
       "    <tr>\n",
       "      <th>0</th>\n",
       "      <td>2024-03-29</td>\n",
       "      <td>12000.0</td>\n",
       "      <td>1</td>\n",
       "    </tr>\n",
       "    <tr>\n",
       "      <th>1</th>\n",
       "      <td>2024-03-30</td>\n",
       "      <td>12000.0</td>\n",
       "      <td>1</td>\n",
       "    </tr>\n",
       "    <tr>\n",
       "      <th>2</th>\n",
       "      <td>2024-03-31</td>\n",
       "      <td>12000.0</td>\n",
       "      <td>1</td>\n",
       "    </tr>\n",
       "    <tr>\n",
       "      <th>3</th>\n",
       "      <td>2024-04-02</td>\n",
       "      <td>12000.0</td>\n",
       "      <td>0</td>\n",
       "    </tr>\n",
       "    <tr>\n",
       "      <th>4</th>\n",
       "      <td>2024-04-04</td>\n",
       "      <td>12000.0</td>\n",
       "      <td>1</td>\n",
       "    </tr>\n",
       "    <tr>\n",
       "      <th>...</th>\n",
       "      <td>...</td>\n",
       "      <td>...</td>\n",
       "      <td>...</td>\n",
       "    </tr>\n",
       "    <tr>\n",
       "      <th>64</th>\n",
       "      <td>2024-09-22</td>\n",
       "      <td>12000.0</td>\n",
       "      <td>1</td>\n",
       "    </tr>\n",
       "    <tr>\n",
       "      <th>65</th>\n",
       "      <td>2024-09-23</td>\n",
       "      <td>10407.0</td>\n",
       "      <td>0</td>\n",
       "    </tr>\n",
       "    <tr>\n",
       "      <th>66</th>\n",
       "      <td>2024-09-27</td>\n",
       "      <td>12000.0</td>\n",
       "      <td>1</td>\n",
       "    </tr>\n",
       "    <tr>\n",
       "      <th>67</th>\n",
       "      <td>2024-09-28</td>\n",
       "      <td>12000.0</td>\n",
       "      <td>0</td>\n",
       "    </tr>\n",
       "    <tr>\n",
       "      <th>68</th>\n",
       "      <td>2024-09-29</td>\n",
       "      <td>12000.0</td>\n",
       "      <td>0</td>\n",
       "    </tr>\n",
       "  </tbody>\n",
       "</table>\n",
       "<p>69 rows × 3 columns</p>\n",
       "</div>"
      ],
      "text/plain": [
       "           날짜      관중수  승패\n",
       "0  2024-03-29  12000.0   1\n",
       "1  2024-03-30  12000.0   1\n",
       "2  2024-03-31  12000.0   1\n",
       "3  2024-04-02  12000.0   0\n",
       "4  2024-04-04  12000.0   1\n",
       "..        ...      ...  ..\n",
       "64 2024-09-22  12000.0   1\n",
       "65 2024-09-23  10407.0   0\n",
       "66 2024-09-27  12000.0   1\n",
       "67 2024-09-28  12000.0   0\n",
       "68 2024-09-29  12000.0   0\n",
       "\n",
       "[69 rows x 3 columns]"
      ]
     },
     "execution_count": 37,
     "metadata": {},
     "output_type": "execute_result"
    }
   ],
   "source": [
    "df"
   ]
  },
  {
   "cell_type": "code",
   "execution_count": 38,
   "metadata": {},
   "outputs": [],
   "source": [
    "correlation_matrix = df.corr()"
   ]
  },
  {
   "cell_type": "code",
   "execution_count": 41,
   "metadata": {},
   "outputs": [
    {
     "name": "stdout",
     "output_type": "stream",
     "text": [
      "           날짜       관중수        승패\n",
      "날짜   1.000000 -0.085026 -0.091064\n",
      "관중수 -0.085026  1.000000 -0.081445\n",
      "승패  -0.091064 -0.081445  1.000000\n"
     ]
    }
   ],
   "source": [
    "# 상관계수 출력\n",
    "print(correlation_matrix)"
   ]
  },
  {
   "cell_type": "code",
   "execution_count": 39,
   "metadata": {},
   "outputs": [
    {
     "data": {
      "image/png": "[encoded data removed]",
      "text/plain": [
       "<Figure size 600x400 with 2 Axes>"
      ]
     },
     "metadata": {},
     "output_type": "display_data"
    }
   ],
   "source": [
    "import matplotlib.pyplot as plt\n",
    "import seaborn as sns\n",
    "\n",
    "# 한글 폰트 설정\n",
    "plt.rcParams['font.family'] = 'Malgun Gothic' \n",
    "\n",
    "# 히트맵으로 상관관계 시각화\n",
    "plt.figure(figsize=(6, 4))\n",
    "sns.heatmap(correlation_matrix, annot=True, cmap='coolwarm', fmt='.2f', cbar=True)\n",
    "\n",
    "# 타이틀 설정\n",
    "plt.title('관중수와 승패의 상관관계')\n",
    "\n",
    "# 그래프 출력\n",
    "plt.show()"
   ]
  },
  {
   "cell_type": "code",
   "execution_count": 42,
   "metadata": {},
   "outputs": [],
   "source": [
    "df.to_csv('data/관중수.csv')"
   ]
  },
  {
   "cell_type": "code",
   "execution_count": null,
   "metadata": {},
   "outputs": [],
   "source": []
  }
 ],
 "metadata": {
  "kernelspec": {
   "display_name": "nof",
   "language": "python",
   "name": "python3"
  },
  "language_info": {
   "codemirror_mode": {
    "name": "ipython",
    "version": 3
   },
   "file_extension": ".py",
   "mimetype": "text/x-python",
   "name": "python",
   "nbconvert_exporter": "python",
   "pygments_lexer": "ipython3",
   "version": "3.12.7"
  }
 },
 "nbformat": 4,
 "nbformat_minor": 2
}
